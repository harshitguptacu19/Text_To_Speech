{
 "cells": [
  {
   "cell_type": "code",
   "execution_count": 176,
   "metadata": {},
   "outputs": [],
   "source": [
    "from tkinter import *   #GUI LIBRARY\n",
    "from gtts import gTTS   #GOOGLE'S TEXT-TO-SPEECH LIBRARY\n",
    "from playsound import playsound  #AUDIO PLAYING LIBRARY\n",
    "import os  #LIBRARY TO INTERACT WITH OPERATING SYSTEM"
   ]
  },
  {
   "cell_type": "code",
   "execution_count": 177,
   "metadata": {},
   "outputs": [
    {
     "data": {
      "text/plain": [
       "''"
      ]
     },
     "execution_count": 177,
     "metadata": {},
     "output_type": "execute_result"
    }
   ],
   "source": [
    "apps = Tk()  #Tk() USED TO INITIALIZE TKINTER\n",
    "apps.geometry('500x500')  #DIMENSIONS OF DIALOGUE WINDOW \n",
    "apps.configure(bg='black')  #CONFIGURE THE WINDOW BY IT'S BACKGROUND COLOUR\n",
    "apps.title(\" 'COVERT ANY TEXT INTO SPEECH'- Made by Harshit Gupta\") #PLACE THE TITLE\n"
   ]
  },
  {
   "cell_type": "code",
   "execution_count": 178,
   "metadata": {},
   "outputs": [],
   "source": [
    "Label(apps, text = \"CONVERT-TEXT-INTO-SPEECH\", font = \"bradley 26 bold\", bg='white').pack()  #apps IS THE NAME BY WHICH WE REFER TO OUR WINDOW\n",
    "Msg = StringVar() #Msg IS A STRING TYPE VARIABLE.\n",
    "Label(apps,text =\"ENTER TEXT\", font = 'calibri 18 bold', bg ='white').place(x=50,y=50) #HEADING TO SHOW THE MESSAGE ABOVE THE INPUT BOX\n",
    "entry_field = Entry(apps, textvariable = Msg ,width ='120') #CREATE A INPUT  BOX\n",
    "entry_field.place(x=20,y=100) #SPECIFY THE  POSITION OF THE WIDGET"
   ]
  },
  {
   "cell_type": "code",
   "execution_count": 179,
   "metadata": {},
   "outputs": [],
   "source": [
    "def Text_to_speech():\n",
    "    Message = entry_field.get() # STORE THE ENTERED VALUE\n",
    "    speech = gTTS(text = Message) # TEXT WHICH WILL BE CONVERTED\n",
    "    speech.save('speech.mp3') #SAVE THE CONVERTED FILE AS 'filename.mp3'\n",
    "    playsound('speech.mp3') #PLAY THE AUDIO FILE 'filename.mp3'"
   ]
  },
  {
   "cell_type": "code",
   "execution_count": 180,
   "metadata": {},
   "outputs": [],
   "source": [
    "def Exit():\n",
    "    apps.destroy() #BLOCK THE MAINLOOP PROCESS"
   ]
  },
  {
   "cell_type": "code",
   "execution_count": 181,
   "metadata": {},
   "outputs": [],
   "source": [
    "def Reset():\n",
    "    Msg.set(\"\") #RENAME THE MAINLOOP PROCESS"
   ]
  },
  {
   "cell_type": "code",
   "execution_count": 182,
   "metadata": {},
   "outputs": [],
   "source": [
    "Button(apps, font = 'calibri 16 bold',text = \"PLAY\", command = Text_to_speech ,width = '4',bg = 'green').place(x=25,y=140) #BUTTON FOR PLAYING THE AUDIO FILE\n",
    "Button(apps, font = 'calibri 16 bold',text = 'EXIT', width = '4' , command = Exit, bg = 'red').place(x=100 , y = 140) # BUTTON FOR EXIT COMMAND"
   ]
  },
  {
   "cell_type": "code",
   "execution_count": null,
   "metadata": {},
   "outputs": [],
   "source": [
    "apps.mainloop() #IT WILL EXECUTE WHEN WE RUN THE PROGRAM\n",
    "os.remove(r\"C:\\Users\\Harshit Gupta\\Desktop\\project\\speech.mp3\") #REMOVE THE AUDIO FILE FROM THE SYSTEM MEMORY"
   ]
  },
  {
   "cell_type": "code",
   "execution_count": null,
   "metadata": {},
   "outputs": [],
   "source": []
  }
 ],
 "metadata": {
  "kernelspec": {
   "display_name": "Python 3",
   "language": "python",
   "name": "python3"
  },
  "language_info": {
   "codemirror_mode": {
    "name": "ipython",
    "version": 3
   },
   "file_extension": ".py",
   "mimetype": "text/x-python",
   "name": "python",
   "nbconvert_exporter": "python",
   "pygments_lexer": "ipython3",
   "version": "3.7.4"
  }
 },
 "nbformat": 4,
 "nbformat_minor": 4
}
